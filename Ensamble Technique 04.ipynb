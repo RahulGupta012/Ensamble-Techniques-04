{
 "cells": [
  {
   "cell_type": "markdown",
   "id": "4667034f-680c-472c-b2d2-6552cd8b2d2a",
   "metadata": {},
   "source": [
    "# Ensemble TechniquesAnd Its Types-4"
   ]
  },
  {
   "cell_type": "markdown",
   "id": "96681bc4-7b8a-4538-b376-63ad4ef6f6f0",
   "metadata": {},
   "source": [
    "______________"
   ]
  },
  {
   "cell_type": "markdown",
   "id": "4e4930ba-1447-4c45-8111-5ddc963f952e",
   "metadata": {},
   "source": [
    "**Q1. You are working on a machene learning project where you have a dataset containing numerical and categorical features. You have identified that some of the features are highly correlated and there are missing values in some of the columns. You want to build a pipeline that automates the feature engineering process and handles the missing values**"
   ]
  },
  {
   "cell_type": "markdown",
   "id": "e79c67d3-8f54-4768-bcaa-66932d75074c",
   "metadata": {},
   "source": [
    "                                            Answer"
   ]
  },
  {
   "cell_type": "markdown",
   "id": "ed4dd2fc-e376-4c1b-bc55-538e13a59042",
   "metadata": {},
   "source": [
    "**Automated Feature Selection**\n",
    "\n",
    "it is a process that chooses a subset of independent variables from a set of features to create a model"
   ]
  },
  {
   "cell_type": "code",
   "execution_count": null,
   "id": "b789bdcf-212d-4970-ad27-3ac073da183c",
   "metadata": {},
   "outputs": [],
   "source": [
    "from sklearn.feature_selection import RFE\n",
    "from sklearn.ensemble import RandomForestClassifier\n",
    "\n",
    "# Initialize the RFE feature selector\n",
    "feature_selector = RFE(estimator=RandomForestClassifier(n_estimators=100, random_state=42), n_features_to_select=10)\n",
    "\n",
    "# Fit the feature selector on your training data\n",
    "selected_features = feature_selector.fit(X_train, y_train)\n",
    "\n",
    "# Use the selected features for both training and test data\n",
    "X_train_selected = selected_features.transform(X_train)\n",
    "X_test_selected = selected_features.transform(X_test)"
   ]
  },
  {
   "cell_type": "markdown",
   "id": "5ec9b8fb-567a-49b0-ab23-467b6635c2ae",
   "metadata": {},
   "source": [
    "**Creating a pipline :** As in our data sets , there are multiple types of columns in which some are numerical, while some contained categorical values. we need to do the feature engneering in these columns. so we need to create the diffrent varibles for that, as we able to create a pipline for each varible ; which are shown below"
   ]
  },
  {
   "cell_type": "code",
   "execution_count": null,
   "id": "50fe964a-3823-435e-83aa-beb748777b17",
   "metadata": {},
   "outputs": [],
   "source": [
    "categorical_features = [ 'columns 1' , 'column 2']\n",
    "numerical_features = ['column 3' , 'column 4']\n"
   ]
  },
  {
   "cell_type": "markdown",
   "id": "1b5ae66c-01ea-473f-9279-c2591afe2008",
   "metadata": {},
   "source": [
    "we can do many feature engneering by the help of this pipeline, in each varible at a same time. The pipline has the features of scaling and encoding as well as we can fill the null values by the help of pipline."
   ]
  },
  {
   "cell_type": "markdown",
   "id": "22aa1d13-eb40-41f1-a681-118c2927b3c3",
   "metadata": {},
   "source": [
    "**Categorical Pipeline**"
   ]
  },
  {
   "cell_type": "code",
   "execution_count": null,
   "id": "0eb56ffc-ed6c-4b11-86b7-415c53f0ad8b",
   "metadata": {},
   "outputs": [],
   "source": [
    "from sklearn.pipeline import Pipeline\n",
    "from sklearn.impute import SimpleImputer  # for null values\n",
    "from sklearn.preprocessing import OneHotEncoder #encoding the categorical value to numerical value"
   ]
  },
  {
   "cell_type": "code",
   "execution_count": null,
   "id": "7bbc6674-8b95-4a31-9999-117325901abc",
   "metadata": {},
   "outputs": [],
   "source": [
    "# Define the numerical pipeline\n",
    "numerical_pipeline = Pipeline([\n",
    "    ('imputer', SimpleImputer(strategy='mean')),\n",
    "    ('scaler', StandardScaler())\n",
    "])\n",
    "\n",
    "# Fit and transform the training data using the numerical pipeline\n",
    "X_train_numerical = numerical_pipeline.fit_transform(X_train)\n",
    "X_test_numerical = numerical_pipeline.transform(X_test)\n"
   ]
  },
  {
   "cell_type": "markdown",
   "id": "2b866a3b-e972-4f15-b6c8-b8ac95e79471",
   "metadata": {},
   "source": [
    "**Numerical Pipeline**"
   ]
  },
  {
   "cell_type": "code",
   "execution_count": null,
   "id": "658ca95c-2be8-4265-95dc-d09e7918b896",
   "metadata": {},
   "outputs": [],
   "source": [
    "from sklearn.preprocessing import StandardScaler\n",
    "\n",
    "# Define the numerical pipeline\n",
    "numerical_pipeline = Pipeline([\n",
    "    ('imputer', SimpleImputer(strategy='mean')),\n",
    "    ('scaler', StandardScaler())\n",
    "])\n",
    "\n",
    "# Fit and transform the training data using the numerical pipeline\n",
    "X_train_numerical = numerical_pipeline.fit_transform(X_train)\n",
    "X_test_numerical = numerical_pipeline.transform(X_test)"
   ]
  },
  {
   "cell_type": "markdown",
   "id": "619c86e6-67e8-49bd-af28-8b04e08688ce",
   "metadata": {},
   "source": [
    "**Column Transformer**"
   ]
  },
  {
   "cell_type": "markdown",
   "id": "e4c88857-bd1e-4979-8591-c776f9516871",
   "metadata": {},
   "source": [
    "column transformer is basically used for combing the multiple pipelines. Here we excute both categorical and numerical pipeline."
   ]
  },
  {
   "cell_type": "code",
   "execution_count": null,
   "id": "c14e376f-6d32-4b5f-9d6f-8c9c39b060bb",
   "metadata": {},
   "outputs": [],
   "source": [
    "from sklearn.compose import ColumnTransformer\n",
    "\n",
    "# Create the ColumnTransformer\n",
    "preprocessor = ColumnTransformer(\n",
    "    transformers=[\n",
    "        ('num', numerical_pipeline, numerical_features),\n",
    "        ('cat', categorical_pipeline, categorical_features)\n",
    "    ])\n"
   ]
  },
  {
   "cell_type": "markdown",
   "id": "da8f68d6-1e2e-4ef5-a08c-b44c47960875",
   "metadata": {},
   "source": [
    "**Random Forest Classifier:**\n",
    "\n",
    "Build a Random Forest Classifier as the final model using the preprocessed data."
   ]
  },
  {
   "cell_type": "code",
   "execution_count": null,
   "id": "c50e4b33-b9b0-494c-be38-3cb3ed19382a",
   "metadata": {},
   "outputs": [],
   "source": [
    "from sklearn.ensemble import RandomForestClassifier\n",
    "\n",
    "# Create the Random Forest Classifier model\n",
    "rf_classifier = RandomForestClassifier(n_estimators=100, random_state=42)\n",
    "\n",
    "# Fit the model to the preprocessed training data\n",
    "rf_classifier.fit(X_train, y_train)\n",
    "\n",
    "# Make predictions on the test data\n",
    "y_pred = rf_classifier.predict(X_test)\n"
   ]
  },
  {
   "cell_type": "markdown",
   "id": "f7dc9d59-a9bb-4368-91d6-57538436c16f",
   "metadata": {},
   "source": [
    "**Evaluation**"
   ]
  },
  {
   "cell_type": "code",
   "execution_count": null,
   "id": "15f41c62-7f3a-4cee-8b67-ad19fdfb599b",
   "metadata": {},
   "outputs": [],
   "source": [
    "from sklearn.metrics import accuracy_score\n",
    "\n",
    "# Calculate the accuracy on the test dataset\n",
    "accuracy = accuracy_score(y_test, y_pred)\n",
    "print(\"Accuracy on the test dataset:\", accuracy)"
   ]
  },
  {
   "cell_type": "markdown",
   "id": "9da8f55e-2ce4-43b8-aa84-1dde59d3f94a",
   "metadata": {},
   "source": [
    "By the use of the pipeline we can \n",
    "- handling missing values\n",
    "- scaled our data\n",
    "- combined multiple pipline and by combining the pipelines we can use the multiple model at once for predicting the same outcome. as in quation 2.|"
   ]
  },
  {
   "cell_type": "markdown",
   "id": "9b648c5d-dbd9-45ea-b845-1ffb43b6a908",
   "metadata": {},
   "source": [
    "# Q2. Build a pipeline that includes a random forest classifier and a logistic regression classifier, and then use a voting classifier to combine their predictions. Train the pipeline on the iris dataset and evaluate its accuracy."
   ]
  },
  {
   "cell_type": "code",
   "execution_count": 77,
   "id": "fac41910-2743-4876-8a15-01856ead03f7",
   "metadata": {},
   "outputs": [],
   "source": [
    "#importing important libreries\n",
    "\n",
    "from sklearn.datasets import load_iris\n",
    "from sklearn.ensemble import RandomForestClassifier, VotingClassifier\n",
    "from sklearn.linear_model import LogisticRegression\n",
    "from sklearn.pipeline import Pipeline\n",
    "from sklearn.model_selection import train_test_split\n",
    "from sklearn.metrics import accuracy_score\n",
    "import warnings\n",
    "warnings.filterwarnings(\"ignore\")"
   ]
  },
  {
   "cell_type": "code",
   "execution_count": 78,
   "id": "dbba3d36-32f4-437a-820b-66be918eed5f",
   "metadata": {},
   "outputs": [],
   "source": [
    "# defining the data set\n",
    "dataset = load_iris()"
   ]
  },
  {
   "cell_type": "code",
   "execution_count": 20,
   "id": "a779ca0a-5aee-46d6-8cf7-e7cff4548779",
   "metadata": {},
   "outputs": [],
   "source": [
    "# dividing the dataset into independent and dependent feature\n",
    "x= dataset.data\n",
    "y= dataset.target"
   ]
  },
  {
   "cell_type": "code",
   "execution_count": 79,
   "id": "18161eb0-109c-43cf-91e7-dcfd2d1f28b5",
   "metadata": {},
   "outputs": [],
   "source": [
    "# spliting the data into traing and test data\n",
    "x_train , x_test, y_train, y_test = train_test_split( x,y , test_size=0.33 , random_state=42 )"
   ]
  },
  {
   "cell_type": "code",
   "execution_count": 80,
   "id": "d0e70868-6de6-438c-a5ac-7f1ccd9886cf",
   "metadata": {},
   "outputs": [],
   "source": [
    "# inisilizing the both classifiers\n",
    "random_clf = RandomForestClassifier()\n",
    "logistic_clf = LogisticRegression()"
   ]
  },
  {
   "cell_type": "code",
   "execution_count": 72,
   "id": "cd393a52-c6c9-4dfd-947b-b9e681068da8",
   "metadata": {},
   "outputs": [],
   "source": [
    "# insilizing the voting classifier, which aggrigrating the value of both classifiers.\n",
    "voting_clf = VotingClassifier(estimators= [('random',random_clf) ,('logistic', logistic_clf)], voting= 'hard')"
   ]
  },
  {
   "cell_type": "code",
   "execution_count": 73,
   "id": "c4f26607-c306-49cf-8e06-ce03855a653f",
   "metadata": {},
   "outputs": [],
   "source": [
    "# creating a pipline\n",
    "pipeline = Pipeline([  ('voting' , voting_clf)])"
   ]
  },
  {
   "cell_type": "code",
   "execution_count": 74,
   "id": "b0343abc-6666-4cf5-b4a7-cb87f7642aea",
   "metadata": {},
   "outputs": [
    {
     "data": {
      "text/html": [
       "<style>#sk-container-id-5 {color: black;background-color: white;}#sk-container-id-5 pre{padding: 0;}#sk-container-id-5 div.sk-toggleable {background-color: white;}#sk-container-id-5 label.sk-toggleable__label {cursor: pointer;display: block;width: 100%;margin-bottom: 0;padding: 0.3em;box-sizing: border-box;text-align: center;}#sk-container-id-5 label.sk-toggleable__label-arrow:before {content: \"▸\";float: left;margin-right: 0.25em;color: #696969;}#sk-container-id-5 label.sk-toggleable__label-arrow:hover:before {color: black;}#sk-container-id-5 div.sk-estimator:hover label.sk-toggleable__label-arrow:before {color: black;}#sk-container-id-5 div.sk-toggleable__content {max-height: 0;max-width: 0;overflow: hidden;text-align: left;background-color: #f0f8ff;}#sk-container-id-5 div.sk-toggleable__content pre {margin: 0.2em;color: black;border-radius: 0.25em;background-color: #f0f8ff;}#sk-container-id-5 input.sk-toggleable__control:checked~div.sk-toggleable__content {max-height: 200px;max-width: 100%;overflow: auto;}#sk-container-id-5 input.sk-toggleable__control:checked~label.sk-toggleable__label-arrow:before {content: \"▾\";}#sk-container-id-5 div.sk-estimator input.sk-toggleable__control:checked~label.sk-toggleable__label {background-color: #d4ebff;}#sk-container-id-5 div.sk-label input.sk-toggleable__control:checked~label.sk-toggleable__label {background-color: #d4ebff;}#sk-container-id-5 input.sk-hidden--visually {border: 0;clip: rect(1px 1px 1px 1px);clip: rect(1px, 1px, 1px, 1px);height: 1px;margin: -1px;overflow: hidden;padding: 0;position: absolute;width: 1px;}#sk-container-id-5 div.sk-estimator {font-family: monospace;background-color: #f0f8ff;border: 1px dotted black;border-radius: 0.25em;box-sizing: border-box;margin-bottom: 0.5em;}#sk-container-id-5 div.sk-estimator:hover {background-color: #d4ebff;}#sk-container-id-5 div.sk-parallel-item::after {content: \"\";width: 100%;border-bottom: 1px solid gray;flex-grow: 1;}#sk-container-id-5 div.sk-label:hover label.sk-toggleable__label {background-color: #d4ebff;}#sk-container-id-5 div.sk-serial::before {content: \"\";position: absolute;border-left: 1px solid gray;box-sizing: border-box;top: 0;bottom: 0;left: 50%;z-index: 0;}#sk-container-id-5 div.sk-serial {display: flex;flex-direction: column;align-items: center;background-color: white;padding-right: 0.2em;padding-left: 0.2em;position: relative;}#sk-container-id-5 div.sk-item {position: relative;z-index: 1;}#sk-container-id-5 div.sk-parallel {display: flex;align-items: stretch;justify-content: center;background-color: white;position: relative;}#sk-container-id-5 div.sk-item::before, #sk-container-id-5 div.sk-parallel-item::before {content: \"\";position: absolute;border-left: 1px solid gray;box-sizing: border-box;top: 0;bottom: 0;left: 50%;z-index: -1;}#sk-container-id-5 div.sk-parallel-item {display: flex;flex-direction: column;z-index: 1;position: relative;background-color: white;}#sk-container-id-5 div.sk-parallel-item:first-child::after {align-self: flex-end;width: 50%;}#sk-container-id-5 div.sk-parallel-item:last-child::after {align-self: flex-start;width: 50%;}#sk-container-id-5 div.sk-parallel-item:only-child::after {width: 0;}#sk-container-id-5 div.sk-dashed-wrapped {border: 1px dashed gray;margin: 0 0.4em 0.5em 0.4em;box-sizing: border-box;padding-bottom: 0.4em;background-color: white;}#sk-container-id-5 div.sk-label label {font-family: monospace;font-weight: bold;display: inline-block;line-height: 1.2em;}#sk-container-id-5 div.sk-label-container {text-align: center;}#sk-container-id-5 div.sk-container {/* jupyter's `normalize.less` sets `[hidden] { display: none; }` but bootstrap.min.css set `[hidden] { display: none !important; }` so we also need the `!important` here to be able to override the default hidden behavior on the sphinx rendered scikit-learn.org. See: https://github.com/scikit-learn/scikit-learn/issues/21755 */display: inline-block !important;position: relative;}#sk-container-id-5 div.sk-text-repr-fallback {display: none;}</style><div id=\"sk-container-id-5\" class=\"sk-top-container\"><div class=\"sk-text-repr-fallback\"><pre>Pipeline(steps=[(&#x27;voting&#x27;,\n",
       "                 VotingClassifier(estimators=[(&#x27;random&#x27;,\n",
       "                                               RandomForestClassifier()),\n",
       "                                              (&#x27;logistic&#x27;,\n",
       "                                               LogisticRegression())]))])</pre><b>In a Jupyter environment, please rerun this cell to show the HTML representation or trust the notebook. <br />On GitHub, the HTML representation is unable to render, please try loading this page with nbviewer.org.</b></div><div class=\"sk-container\" hidden><div class=\"sk-item sk-dashed-wrapped\"><div class=\"sk-label-container\"><div class=\"sk-label sk-toggleable\"><input class=\"sk-toggleable__control sk-hidden--visually\" id=\"sk-estimator-id-17\" type=\"checkbox\" ><label for=\"sk-estimator-id-17\" class=\"sk-toggleable__label sk-toggleable__label-arrow\">Pipeline</label><div class=\"sk-toggleable__content\"><pre>Pipeline(steps=[(&#x27;voting&#x27;,\n",
       "                 VotingClassifier(estimators=[(&#x27;random&#x27;,\n",
       "                                               RandomForestClassifier()),\n",
       "                                              (&#x27;logistic&#x27;,\n",
       "                                               LogisticRegression())]))])</pre></div></div></div><div class=\"sk-serial\"><div class=\"sk-item sk-dashed-wrapped\"><div class=\"sk-label-container\"><div class=\"sk-label sk-toggleable\"><input class=\"sk-toggleable__control sk-hidden--visually\" id=\"sk-estimator-id-18\" type=\"checkbox\" ><label for=\"sk-estimator-id-18\" class=\"sk-toggleable__label sk-toggleable__label-arrow\">voting: VotingClassifier</label><div class=\"sk-toggleable__content\"><pre>VotingClassifier(estimators=[(&#x27;random&#x27;, RandomForestClassifier()),\n",
       "                             (&#x27;logistic&#x27;, LogisticRegression())])</pre></div></div></div><div class=\"sk-parallel\"><div class=\"sk-parallel-item\"><div class=\"sk-item\"><div class=\"sk-label-container\"><div class=\"sk-label sk-toggleable\"><label>random</label></div></div><div class=\"sk-serial\"><div class=\"sk-item\"><div class=\"sk-estimator sk-toggleable\"><input class=\"sk-toggleable__control sk-hidden--visually\" id=\"sk-estimator-id-19\" type=\"checkbox\" ><label for=\"sk-estimator-id-19\" class=\"sk-toggleable__label sk-toggleable__label-arrow\">RandomForestClassifier</label><div class=\"sk-toggleable__content\"><pre>RandomForestClassifier()</pre></div></div></div></div></div></div><div class=\"sk-parallel-item\"><div class=\"sk-item\"><div class=\"sk-label-container\"><div class=\"sk-label sk-toggleable\"><label>logistic</label></div></div><div class=\"sk-serial\"><div class=\"sk-item\"><div class=\"sk-estimator sk-toggleable\"><input class=\"sk-toggleable__control sk-hidden--visually\" id=\"sk-estimator-id-20\" type=\"checkbox\" ><label for=\"sk-estimator-id-20\" class=\"sk-toggleable__label sk-toggleable__label-arrow\">LogisticRegression</label><div class=\"sk-toggleable__content\"><pre>LogisticRegression()</pre></div></div></div></div></div></div></div></div></div></div></div></div>"
      ],
      "text/plain": [
       "Pipeline(steps=[('voting',\n",
       "                 VotingClassifier(estimators=[('random',\n",
       "                                               RandomForestClassifier()),\n",
       "                                              ('logistic',\n",
       "                                               LogisticRegression())]))])"
      ]
     },
     "execution_count": 74,
     "metadata": {},
     "output_type": "execute_result"
    }
   ],
   "source": [
    "# training the data throug pipeline\n",
    "pipeline.fit(x_train , y_train)"
   ]
  },
  {
   "cell_type": "code",
   "execution_count": 75,
   "id": "4d59558f-2156-42d0-a860-bec2764a3bcb",
   "metadata": {},
   "outputs": [],
   "source": [
    "# predicting model of pipeline\n",
    "y_pred = pipeline.predict(x_test)"
   ]
  },
  {
   "cell_type": "code",
   "execution_count": 81,
   "id": "43df7dea-b199-42af-9c49-1ead5dcaffb6",
   "metadata": {},
   "outputs": [
    {
     "name": "stdout",
     "output_type": "stream",
     "text": [
      "Accuracy: 0.98\n"
     ]
    }
   ],
   "source": [
    "# evalutaion of the model\n",
    "accuracy = accuracy_score(y_test, y_pred)\n",
    "print(f'Accuracy: {accuracy}')"
   ]
  }
 ],
 "metadata": {
  "kernelspec": {
   "display_name": "Python 3 (ipykernel)",
   "language": "python",
   "name": "python3"
  },
  "language_info": {
   "codemirror_mode": {
    "name": "ipython",
    "version": 3
   },
   "file_extension": ".py",
   "mimetype": "text/x-python",
   "name": "python",
   "nbconvert_exporter": "python",
   "pygments_lexer": "ipython3",
   "version": "3.10.8"
  }
 },
 "nbformat": 4,
 "nbformat_minor": 5
}
